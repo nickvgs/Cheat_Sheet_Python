{
 "cells": [
  {
   "cell_type": "code",
   "execution_count": 1,
   "id": "900624c4",
   "metadata": {},
   "outputs": [],
   "source": [
    "import pandas as pd"
   ]
  },
  {
   "cell_type": "code",
   "execution_count": 29,
   "id": "3139ab91",
   "metadata": {},
   "outputs": [],
   "source": [
    "arq0 = pd.read_csv('Arquivo_0.txt', engine='python', sep=',', index_col=0)"
   ]
  },
  {
   "cell_type": "code",
   "execution_count": null,
   "id": "fc1e92f3-4f25-476d-ac97-aae982ef02d1",
   "metadata": {},
   "outputs": [],
   "source": [
    "dfcs = pd.read_csv('ARQUIVO.txt', engine='python', sep=';', header=None,\n",
    "                   names=['Placa', 'Cod_local', 'Endereco_Radar', 'Data_Aquisicao','Cod_Municipio','Cidade', 'UF', 'Data_Registro']\n",
    "                   , chunksize = 1000000)\n",
    "\n",
    "chunk = 0;\n",
    "for df in dfcs:\n",
    "    df.to_csv('Arquivo_' + str(chunk) + '.txt')\n",
    "    print('Arquivo_' + str(chunk) + '.txt Gerado com Sucesso')\n",
    "    chunk = chunk+1"
   ]
  },
  {
   "cell_type": "code",
   "execution_count": 32,
   "id": "cae027c2",
   "metadata": {},
   "outputs": [
    {
     "data": {
      "text/plain": [
       "array(['01/07/2020 08:33:20', '01/07/2020 11:26:09',\n",
       "       '01/07/2020 14:42:22', ..., '28/07/2020 07:21:57',\n",
       "       '28/07/2020 16:45:52', '28/07/2020 21:17:43'], dtype=object)"
      ]
     },
     "execution_count": 32,
     "metadata": {},
     "output_type": "execute_result"
    }
   ],
   "source": [
    "arq0.Data_Registro.unique()"
   ]
  },
  {
   "cell_type": "code",
   "execution_count": null,
   "id": "740566b1",
   "metadata": {},
   "outputs": [],
   "source": [
    "arq0.shape()"
   ]
  },
  {
   "cell_type": "code",
   "execution_count": null,
   "id": "3e7843b6",
   "metadata": {},
   "outputs": [],
   "source": [
    "for dr in arq0['Data_Registro'].unique():\n",
    "    print(dr) "
   ]
  }
 ],
 "metadata": {
  "kernelspec": {
   "display_name": "Python 3 (ipykernel)",
   "language": "python",
   "name": "python3"
  },
  "language_info": {
   "codemirror_mode": {
    "name": "ipython",
    "version": 3
   },
   "file_extension": ".py",
   "mimetype": "text/x-python",
   "name": "python",
   "nbconvert_exporter": "python",
   "pygments_lexer": "ipython3",
   "version": "3.9.7"
  }
 },
 "nbformat": 4,
 "nbformat_minor": 5
}
