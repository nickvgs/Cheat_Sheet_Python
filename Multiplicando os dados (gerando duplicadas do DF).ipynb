{
 "cells": [
  {
   "cell_type": "markdown",
   "id": "07bd1659-991b-4d6e-b394-c486412852b2",
   "metadata": {},
   "source": [
    "# REPITA OU REPLIQUE AS LINHAS DO DATAFRAME EM PANDAS PYTHON (CRIE LINHAS DUPLICADAS)\n",
    "\n",
    "Repetir ou replicar as linhas de dataframe em pandas python (criar linhas duplicadas) pode ser feito de maneira indireta usando a função concat(). Vamos ver como\n",
    "\n",
    " Repita ou replique o dataframe em pandas python.\n",
    "Repita ou replique o dataframe em pandas junto com index.\n",
    "Com exemplos\n",
    "\n",
    "Primeiro vamos criar um dataframe"
   ]
  },
  {
   "cell_type": "code",
   "execution_count": 2,
   "id": "d54dfc85-5e16-4e41-b452-423af4170def",
   "metadata": {},
   "outputs": [
    {
     "name": "stdout",
     "output_type": "stream",
     "text": [
      "        State  Score\n",
      "0  Arizona AZ     62\n",
      "1  Georgia GG     47\n",
      "2  Newyork NY     55\n",
      "3  Indiana IN     74\n",
      "4  Florida FL     31\n"
     ]
    }
   ],
   "source": [
    "import pandas as pd\n",
    "import numpy as np\n",
    "\n",
    "#Create a DataFrame\n",
    "df1 = {'State':['Arizona AZ','Georgia GG','Newyork NY','Indiana IN','Florida FL'],\n",
    "'Score':[62,47,55,74,31]}\n",
    "df1 = pd.DataFrame(df1,columns=['State','Score'])\n",
    "print(df1)"
   ]
  },
  {
   "cell_type": "code",
   "execution_count": 3,
   "id": "3aa5b9d4-9477-457b-80ec-648eda9ef567",
   "metadata": {},
   "outputs": [
    {
     "name": "stdout",
     "output_type": "stream",
     "text": [
      "         State  Score\n",
      "0   Arizona AZ     62\n",
      "1   Georgia GG     47\n",
      "2   Newyork NY     55\n",
      "3   Indiana IN     74\n",
      "4   Florida FL     31\n",
      "5   Arizona AZ     62\n",
      "6   Georgia GG     47\n",
      "7   Newyork NY     55\n",
      "8   Indiana IN     74\n",
      "9   Florida FL     31\n",
      "10  Arizona AZ     62\n",
      "11  Georgia GG     47\n",
      "12  Newyork NY     55\n",
      "13  Indiana IN     74\n",
      "14  Florida FL     31\n"
     ]
    }
   ],
   "source": [
    "''' Repeat without index '''\n",
    "df_repeated = pd.concat([df1]*3, ignore_index=True)\n",
    "print(df_repeated)\n"
   ]
  },
  {
   "cell_type": "code",
   "execution_count": 4,
   "id": "536a9701-b023-4fc0-927f-9072edc250c6",
   "metadata": {},
   "outputs": [
    {
     "name": "stdout",
     "output_type": "stream",
     "text": [
      "        State  Score\n",
      "0  Arizona AZ     62\n",
      "1  Georgia GG     47\n",
      "2  Newyork NY     55\n",
      "3  Indiana IN     74\n",
      "4  Florida FL     31\n",
      "0  Arizona AZ     62\n",
      "1  Georgia GG     47\n",
      "2  Newyork NY     55\n",
      "3  Indiana IN     74\n",
      "4  Florida FL     31\n"
     ]
    }
   ],
   "source": [
    "''' Repeat with index'''\n",
    "df_repeated_with_index = pd.concat([df1]*2)\n",
    "print(df_repeated_with_index)"
   ]
  },
  {
   "cell_type": "code",
   "execution_count": null,
   "id": "4d599030-a2c7-4323-9db4-0e185070cedc",
   "metadata": {},
   "outputs": [],
   "source": []
  }
 ],
 "metadata": {
  "kernelspec": {
   "display_name": "Python 3 (ipykernel)",
   "language": "python",
   "name": "python3"
  },
  "language_info": {
   "codemirror_mode": {
    "name": "ipython",
    "version": 3
   },
   "file_extension": ".py",
   "mimetype": "text/x-python",
   "name": "python",
   "nbconvert_exporter": "python",
   "pygments_lexer": "ipython3",
   "version": "3.9.7"
  }
 },
 "nbformat": 4,
 "nbformat_minor": 5
}
